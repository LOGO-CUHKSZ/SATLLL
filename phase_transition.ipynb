{
 "cells": [
  {
   "cell_type": "code",
   "execution_count": 1,
   "id": "6ac1dfe6",
   "metadata": {},
   "outputs": [],
   "source": [
    "import time\n",
    "import os\n",
    "\n",
    "import numpy as np\n",
    "from pysat.formula import CNF \n",
    "from pysat.solvers import Solver\n",
    "from pylll import lll_decision\n",
    "\n",
    "\n",
    "def read_sat(sat_path):\n",
    "    with open(sat_path) as f:\n",
    "        sat_lines = f.readlines()\n",
    "        header = sat_lines[0]\n",
    "        header_info = header.replace(\"\\n\", \"\").split(\" \")\n",
    "        num_vars = int(header_info[-2])\n",
    "        num_clauses = int(header_info[-1])\n",
    "\n",
    "        sat = [[int(x) for x in line.replace(' 0\\n', '').split(' ')]\n",
    "               for line in sat_lines[1:]]\n",
    "\n",
    "        return sat, num_vars, num_clauses\n"
   ]
  },
  {
   "cell_type": "code",
   "execution_count": 2,
   "id": "5458b327",
   "metadata": {},
   "outputs": [],
   "source": [
    "unsat_path = './unsat_formulas/'\n",
    "\n",
    "unsat_instances = []\n",
    "for name in os.listdir(unsat_path):\n",
    "    sat_path = unsat_path + name\n",
    "    sat_instance, num_vars, num_clauses = read_sat(sat_path)\n",
    "    unsat_instances.append(sat_instance)\n",
    "\n",
    "plot_data = []\n",
    "num_all = len(unsat_instances)\n",
    "for i in range(1, 100):\n",
    "    num_lll = 0\n",
    "    part_instances = [instance[:i] for instance in unsat_instances]\n",
    "    for instance in part_instances:\n",
    "        if lll_decision(instance, 100, eval_iter=20):\n",
    "            num_lll += 1\n",
    "    # print(f'sat_size: {i}, number of all: {num_all}, number of lll: {num_lll}, percent: {num_lll/num_all}')\n",
    "    plot_data.append((i/100, num_lll/num_all))\n",
    "    "
   ]
  },
  {
   "cell_type": "code",
   "execution_count": 5,
   "id": "dc6498f5",
   "metadata": {},
   "outputs": [
    {
     "name": "stdout",
     "output_type": "stream",
     "text": [
      "497\n",
      "1527\n"
     ]
    }
   ],
   "source": [
    "instances_sizes = []\n",
    "\n",
    "for name in os.listdir(unsat_path):\n",
    "    sat_path = unsat_path + name\n",
    "    sat_instance, num_vars, num_clauses = read_sat(sat_path)\n",
    "    unsat_instances.append(sat_instance)\n",
    "    instances_sizes.append(num_clauses)\n",
    "\n",
    "print(len(instances_sizes))\n",
    "max_size = max(instances_sizes)\n",
    "print(max_size)\n",
    "\n",
    "instance_distribution = [[], []]\n",
    "for i in range(1, max_size+1):\n",
    "    instance_distribution[0].append(i/100)\n",
    "    instance_distribution[1].append(1 - len([x for x in instances_sizes if x < i])/len(instances_sizes))"
   ]
  },
  {
   "cell_type": "code",
   "execution_count": 6,
   "id": "a82e697c",
   "metadata": {},
   "outputs": [
    {
     "name": "stderr",
     "output_type": "stream",
     "text": [
      "/var/folders/qz/6jw6ywgd3bvdbjspv5vl39nm0000gn/T/ipykernel_58350/11282717.py:30: UserWarning: Matplotlib is currently using module://matplotlib_inline.backend_inline, which is a non-GUI backend, so cannot show the figure.\n",
      "  fig.show()\n"
     ]
    },
    {
     "data": {
      "image/png": "[encoded data removed]",
      "text/plain": [
       "<Figure size 432x288 with 1 Axes>"
      ]
     },
     "metadata": {
      "needs_background": "light"
     },
     "output_type": "display_data"
    }
   ],
   "source": [
    "import matplotlib.pyplot as plt\n",
    "from mpl_toolkits.axisartist.axislines import AxesZero\n",
    "\n",
    "\n",
    "fig = plt.figure()\n",
    "\n",
    "ax = fig.add_subplot(axes_class=AxesZero)\n",
    "\n",
    "ax.set_xlim(0, 1)\n",
    "ax.set_ylim(0, 1.1)\n",
    "\n",
    "for direction in [\"xzero\", \"yzero\"]:\n",
    "    # adds arrows at the ends of each axis\n",
    "    ax.axis[direction].set_axisline_style(\"-|>\")\n",
    "\n",
    "    # adds X and Y-axis from the origin\n",
    "    ax.axis[direction].set_visible(True)\n",
    "\n",
    "for direction in [\"left\", \"right\", \"bottom\", \"top\"]:\n",
    "    # hides borders\n",
    "    ax.axis[direction].set_visible(False)\n",
    "\n",
    "ax.plot(*zip(*plot_data), color='blue')\n",
    "\n",
    "# ax.plot(instance_distribution[0], instance_distribution[1], color='red')\n",
    "\n",
    "ax.set_xlabel(\"clause density\")\n",
    "ax.set_ylabel(\"satisfiable rate\")\n",
    "\n",
    "fig.show()\n",
    "fig.savefig('lll-pt.png')"
   ]
  },
  {
   "cell_type": "code",
   "execution_count": 7,
   "id": "264aacdc",
   "metadata": {},
   "outputs": [
    {
     "name": "stderr",
     "output_type": "stream",
     "text": [
      "/var/folders/qz/6jw6ywgd3bvdbjspv5vl39nm0000gn/T/ipykernel_58350/2429829106.py:33: UserWarning: Matplotlib is currently using module://matplotlib_inline.backend_inline, which is a non-GUI backend, so cannot show the figure.\n",
      "  fig.show()\n"
     ]
    },
    {
     "data": {
      "image/png": "[encoded data removed]",
      "text/plain": [
       "<Figure size 432x288 with 1 Axes>"
      ]
     },
     "metadata": {
      "needs_background": "light"
     },
     "output_type": "display_data"
    }
   ],
   "source": [
    "import matplotlib.pyplot as plt\n",
    "\n",
    "lll_data = [x for x in plot_data]\n",
    "lll_data.append((14, 0))\n",
    "\n",
    "fig = plt.figure()\n",
    "ax = fig.add_subplot(axes_class=AxesZero)\n",
    "\n",
    "ax.set_xlim(0, 16)\n",
    "ax.set_ylim(0, 1.1)\n",
    "\n",
    "for direction in [\"xzero\", \"yzero\"]:\n",
    "    # adds arrows at the ends of each axis\n",
    "    ax.axis[direction].set_axisline_style(\"-|>\")\n",
    "    # adds X and Y-axis from the origin\n",
    "    ax.axis[direction].set_visible(True)\n",
    "for direction in [\"left\", \"right\", \"bottom\", \"top\"]:\n",
    "    # hides borders\n",
    "    ax.axis[direction].set_visible(False)\n",
    "\n",
    "\n",
    "ax.plot(*zip(*lll_data), color='blue')\n",
    "ax.plot(instance_distribution[0], instance_distribution[1], color='red')\n",
    "\n",
    "ax.set_xlabel(\"clause density\")\n",
    "ax.set_ylabel(\"satisfiable rate\")\n",
    "\n",
    "fig.show()\n",
    "fig.savefig('lll-satisfiable-pt.png')"
   ]
  }
 ],
 "metadata": {
  "kernelspec": {
   "display_name": "Python 3.9.12 ('base')",
   "language": "python",
   "name": "python3"
  },
  "language_info": {
   "codemirror_mode": {
    "name": "ipython",
    "version": 3
   },
   "file_extension": ".py",
   "mimetype": "text/x-python",
   "name": "python",
   "nbconvert_exporter": "python",
   "pygments_lexer": "ipython3",
   "version": "3.9.12"
  },
  "vscode": {
   "interpreter": {
    "hash": "7df9adec5398d45472c8bf81047aa2ae699f575f599903d765e95bf4a199fe03"
   }
  }
 },
 "nbformat": 4,
 "nbformat_minor": 5
}
